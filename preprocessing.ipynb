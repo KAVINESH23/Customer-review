{
 "cells": [
  {
   "cell_type": "code",
   "execution_count": 1,
   "id": "0b1011db",
   "metadata": {},
   "outputs": [],
   "source": [
    "import pandas as pd\n",
    "import numpy as np\n",
    "import re\n",
    "import string\n",
    "import os\n",
    "import warnings\n",
    "warnings.filterwarnings('ignore')\n"
   ]
  },
  {
   "cell_type": "code",
   "execution_count": 2,
   "id": "8799bb2c",
   "metadata": {},
   "outputs": [
    {
     "name": "stdout",
     "output_type": "stream",
     "text": [
      "Dataset loaded successfully!\n",
      "Dataset shape: (413840, 6)\n",
      "\n",
      "First 5 rows of raw data:\n",
      "                                        Product Name Brand Name   Price  \\\n",
      "0  \"CLEAR CLEAN ESN\" Sprint EPIC 4G Galaxy SPH-D7...    Samsung  199.99   \n",
      "1  \"CLEAR CLEAN ESN\" Sprint EPIC 4G Galaxy SPH-D7...    Samsung  199.99   \n",
      "2  \"CLEAR CLEAN ESN\" Sprint EPIC 4G Galaxy SPH-D7...    Samsung  199.99   \n",
      "3  \"CLEAR CLEAN ESN\" Sprint EPIC 4G Galaxy SPH-D7...    Samsung  199.99   \n",
      "4  \"CLEAR CLEAN ESN\" Sprint EPIC 4G Galaxy SPH-D7...    Samsung  199.99   \n",
      "\n",
      "   Rating                                            Reviews  Review Votes  \n",
      "0       5  I feel so LUCKY to have found this used (phone...           1.0  \n",
      "1       4  nice phone, nice up grade from my pantach revu...           0.0  \n",
      "2       5                                       Very pleased           0.0  \n",
      "3       4  It works good but it goes slow sometimes but i...           0.0  \n",
      "4       4  Great phone to replace my lost phone. The only...           0.0  \n"
     ]
    }
   ],
   "source": [
    "# LOAD THE DATASET \n",
    "file_path = r'D:\\sentiment_analysis\\reviews.csv'  \n",
    "try:\n",
    "    df = pd.read_csv(file_path)\n",
    "    print(\"Dataset loaded successfully!\")\n",
    "    print(f\"Dataset shape: {df.shape}\")\n",
    "except FileNotFoundError:\n",
    "    print(f\" Error: File '{file_path}' not found.\")\n",
    "    print(\" Please place your CSV file in the same folder as this script.\")\n",
    "    exit()\n",
    "\n",
    "# Display first few rows with all columns\n",
    "print(\"\\nFirst 5 rows of raw data:\")\n",
    "print(df.head())\n"
   ]
  },
  {
   "cell_type": "code",
   "execution_count": 3,
   "id": "f3d0f0a7",
   "metadata": {},
   "outputs": [
    {
     "name": "stdout",
     "output_type": "stream",
     "text": [
      "Product Name     object\n",
      "Brand Name       object\n",
      "Price           float64\n",
      "Rating            int64\n",
      "Reviews          object\n",
      "Review Votes    float64\n",
      "dtype: object\n"
     ]
    }
   ],
   "source": [
    "\n",
    "# Display column names and data types\n",
    "print(df.dtypes)"
   ]
  },
  {
   "cell_type": "code",
   "execution_count": 4,
   "id": "41ceacf6",
   "metadata": {},
   "outputs": [
    {
     "name": "stdout",
     "output_type": "stream",
     "text": [
      "\n",
      "Missing values in each column:\n",
      "Product Name        0\n",
      "Brand Name      65171\n",
      "Price            5933\n",
      "Rating              0\n",
      "Reviews            70\n",
      "Review Votes    12296\n",
      "dtype: int64\n",
      " Dropped 65224 rows with missing values in key columns\n",
      "\n",
      " After cleaning: 348616 reviews remain.\n"
     ]
    }
   ],
   "source": [
    "# DATA CLEANING \n",
    "\n",
    "# 1. Check for missing values\n",
    "print(\"\\nMissing values in each column:\")\n",
    "print(df.isnull().sum())\n",
    "\n",
    "# 2. Handle missing values - drop rows with missing values in key columns\n",
    "initial_count = len(df)\n",
    "df.dropna(subset=['Reviews', 'Brand Name', 'Product Name'], inplace=True)\n",
    "print(f\" Dropped {initial_count - len(df)} rows with missing values in key columns\")\n",
    "\n",
    "# 3. Cleaning text data \n",
    "def clean_text(text):\n",
    "    if pd.isna(text):\n",
    "        return \"\"\n",
    "    \n",
    "    text = str(text).lower().strip()\n",
    "    \n",
    "    # Remove all punctuation marks\n",
    "    text = text.translate(str.maketrans('', '', string.punctuation))\n",
    "    \n",
    "    # Remove extra whitespace\n",
    "    text = re.sub(r'\\s+', ' ', text).strip()\n",
    "    \n",
    "    return text\n",
    "df['Reviews'] = df['Reviews'].apply(clean_text)\n",
    "df['Product Name'] = df['Product Name'].apply(clean_text)\n",
    "\n",
    "print(f\"\\n After cleaning: {len(df)} reviews remain.\")"
   ]
  },
  {
   "cell_type": "code",
   "execution_count": 5,
   "id": "8b866963",
   "metadata": {},
   "outputs": [
    {
     "name": "stdout",
     "output_type": "stream",
     "text": [
      "\n",
      "Unique brand names in dataset:\n",
      "Brand Name\n",
      "Samsung             65725\n",
      "BLU                 63246\n",
      "Apple               58179\n",
      "LG                  22410\n",
      "BlackBerry          16872\n",
      "                    ...  \n",
      "Blackberry (Rim)        1\n",
      "TracFone                1\n",
      "ThL                     1\n",
      "Danger Inc.             1\n",
      "ToShare Tech            1\n",
      "Name: count, Length: 384, dtype: int64\n",
      "\n",
      "Found 69781 Samsung brand reviews.\n"
     ]
    }
   ],
   "source": [
    "# STEP 3: FILTER FOR SAMSUNG PRODUCTS \n",
    "\n",
    "# Unique brand names  in the dataset\n",
    "print(\"\\nUnique brand names in dataset:\")\n",
    "print(df['Brand Name'].value_counts())\n",
    "\n",
    "#  Samsung brand filtration\n",
    "samsung_brand_mask = df['Brand Name'].str.contains('samsung', case=False, na=False)\n",
    "df_samsung_brand = df[samsung_brand_mask].copy()\n",
    "\n",
    "print(f\"\\nFound {len(df_samsung_brand)} Samsung brand reviews.\")"
   ]
  },
  {
   "cell_type": "code",
   "execution_count": 6,
   "id": "9d17d1ba",
   "metadata": {},
   "outputs": [
    {
     "name": "stdout",
     "output_type": "stream",
     "text": [
      "Product Name\n",
      "samsung galaxy s duos ii s7582 dual sim factory unlocked international version black                               1109\n",
      "samsung galaxy s duos gts7562 gsm unlocked touchscreen 5mp camera smartphone white                                 1096\n",
      "samsung galaxy s4 i9505 16gb lte unlocked international version white                                              1095\n",
      "samsung galaxy s5 smg900a gsm unlocked cellphone 16gb blue                                                         1042\n",
      "samsung galaxy exhibit 4g tmobile t679                                                                              990\n",
      "samsung galaxy s7 edge g9350 32gb hk dual sim factory unlocked gsm international version no warranty blue coral     944\n",
      "samsung s5830 galaxy ace unlocked phone black                                                                       901\n",
      "samsung galaxy s5 mini g800h unlocked cellphone international version 16gb white                                    898\n",
      "samsung galaxy s3 sghi747 4g lte gsm unlocked 16gb no warranty white                                                897\n",
      "samsung galaxy note i717 16gb 4g lte gsm android phone carbon blue att version                                      872\n",
      "Name: count, dtype: int64\n"
     ]
    }
   ],
   "source": [
    "#  Filter Samsung product name\n",
    "samsung_product_mask = df_samsung_brand['Product Name'].str.contains('samsung', case=False, na=False)\n",
    "df_samsung = df_samsung_brand[samsung_product_mask].copy()\n",
    "\n",
    "print(df_samsung['Product Name'].value_counts().head(10))\n",
    "\n",
    "#Folder\n",
    "final_df = df_samsung[['Product Name', 'Brand Name', 'Rating', 'Reviews']].copy()\n",
    "output_folder = 'output'\n",
    "os.makedirs(output_folder, exist_ok=True)\n",
    "\n",
    "output_path = os.path.join(output_folder, 'samsungreviews.csv')\n",
    "final_df.to_csv(output_path, index=False, encoding='utf-8')"
   ]
  },
  {
   "cell_type": "code",
   "execution_count": 7,
   "id": "19053a90",
   "metadata": {},
   "outputs": [
    {
     "name": "stdout",
     "output_type": "stream",
     "text": [
      "\n",
      " Specific product data saved to 'output\\specific_product.csv'\n"
     ]
    }
   ],
   "source": [
    "#FILTER SPECIFIC PRODUCT \n",
    "\n",
    "product_name = \"samsung galaxy s duos ii s7582 dual sim factory unlocked international version black\"\n",
    "\n",
    "# Filter rows matching this product name exactly\n",
    "df_product = df_samsung[df_samsung['Product Name'] == product_name].copy()\n",
    "\n",
    "# Check if any data is found\n",
    "if not df_product.empty:\n",
    "    specific_product_path = os.path.join(output_folder, 'specific_product.csv')\n",
    "    df_product.to_csv(specific_product_path, index=False, encoding='utf-8')\n",
    "    print(f\"\\n Specific product data saved to '{specific_product_path}'\")\n",
    "else:\n",
    "    print(\"\\n No data found for the specific product.\")"
   ]
  }
 ],
 "metadata": {
  "kernelspec": {
   "display_name": "base",
   "language": "python",
   "name": "python3"
  },
  "language_info": {
   "codemirror_mode": {
    "name": "ipython",
    "version": 3
   },
   "file_extension": ".py",
   "mimetype": "text/x-python",
   "name": "python",
   "nbconvert_exporter": "python",
   "pygments_lexer": "ipython3",
   "version": "3.13.5"
  }
 },
 "nbformat": 4,
 "nbformat_minor": 5
}
