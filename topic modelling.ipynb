{
 "cells": [
  {
   "cell_type": "code",
   "execution_count": 1,
   "id": "ccf0a5c0",
   "metadata": {},
   "outputs": [],
   "source": [
    "import pandas as pd\n",
    "import matplotlib.pyplot as plt\n",
    "\n",
    "# Load dataset\n",
    "file_path = r\"D:\\sentiment_analysis\\Kamal\\output\\specific_product.csv\"\n",
    "df_product = pd.read_csv(file_path)"
   ]
  },
  {
   "cell_type": "code",
   "execution_count": 3,
   "id": "0541e906",
   "metadata": {},
   "outputs": [
    {
     "data": {
      "text/plain": [
       "Sentiment\n",
       "Positive    802\n",
       "Negative    299\n",
       "Neutral       8\n",
       "Name: count, dtype: int64"
      ]
     },
     "execution_count": 3,
     "metadata": {},
     "output_type": "execute_result"
    }
   ],
   "source": [
    "# Count sentiment values\n",
    "sentiment_counts = df_product[\"Sentiment\"].value_counts()\n",
    "sentiment_counts"
   ]
  },
  {
   "cell_type": "code",
   "execution_count": 7,
   "id": "f6a57b15",
   "metadata": {},
   "outputs": [],
   "source": [
    "# 2. Filter negative reviews\n",
    "df_negative = df_product[df_product[\"Sentiment\"] == \"Negative\"].copy()"
   ]
  },
  {
   "cell_type": "code",
   "execution_count": 8,
   "id": "0fb4c3bb",
   "metadata": {},
   "outputs": [],
   "source": [
    "import pandas as pd\n",
    "import os\n",
    "import torch\n",
    "from transformers import pipeline"
   ]
  },
  {
   "cell_type": "code",
   "execution_count": null,
   "id": "b9485bf0",
   "metadata": {},
   "outputs": [
    {
     "data": {
      "application/vnd.jupyter.widget-view+json": {
       "model_id": "8d46effe1e5d4e608a9163873ce4719f",
       "version_major": 2,
       "version_minor": 0
      },
      "text/plain": [
       "config.json: 0.00B [00:00, ?B/s]"
      ]
     },
     "metadata": {},
     "output_type": "display_data"
    },
    {
     "name": "stderr",
     "output_type": "stream",
     "text": [
      "c:\\Users\\mnand\\anaconda3\\Lib\\site-packages\\huggingface_hub\\file_download.py:143: UserWarning: `huggingface_hub` cache-system uses symlinks by default to efficiently store duplicated files but your machine does not support them in C:\\Users\\mnand\\.cache\\huggingface\\hub\\models--facebook--bart-large-mnli. Caching files will still work but in a degraded version that might require more space on your disk. This warning can be disabled by setting the `HF_HUB_DISABLE_SYMLINKS_WARNING` environment variable. For more details, see https://huggingface.co/docs/huggingface_hub/how-to-cache#limitations.\n",
      "To support symlinks on Windows, you either need to activate Developer Mode or to run Python as an administrator. In order to activate developer mode, see this article: https://docs.microsoft.com/en-us/windows/apps/get-started/enable-your-device-for-development\n",
      "  warnings.warn(message)\n",
      "Xet Storage is enabled for this repo, but the 'hf_xet' package is not installed. Falling back to regular HTTP download. For better performance, install the package with: `pip install huggingface_hub[hf_xet]` or `pip install hf_xet`\n"
     ]
    },
    {
     "data": {
      "application/vnd.jupyter.widget-view+json": {
       "model_id": "8e0f92ee4cfe4733b44892ec218ea3b6",
       "version_major": 2,
       "version_minor": 0
      },
      "text/plain": [
       "model.safetensors:   0%|          | 0.00/1.63G [00:00<?, ?B/s]"
      ]
     },
     "metadata": {},
     "output_type": "display_data"
    },
    {
     "data": {
      "application/vnd.jupyter.widget-view+json": {
       "model_id": "aeb7a935678e4862b45ccc4c926494c9",
       "version_major": 2,
       "version_minor": 0
      },
      "text/plain": [
       "tokenizer_config.json:   0%|          | 0.00/26.0 [00:00<?, ?B/s]"
      ]
     },
     "metadata": {},
     "output_type": "display_data"
    },
    {
     "data": {
      "application/vnd.jupyter.widget-view+json": {
       "model_id": "d3aa76e0d80f4f499eb9079650e0b443",
       "version_major": 2,
       "version_minor": 0
      },
      "text/plain": [
       "vocab.json: 0.00B [00:00, ?B/s]"
      ]
     },
     "metadata": {},
     "output_type": "display_data"
    },
    {
     "data": {
      "application/vnd.jupyter.widget-view+json": {
       "model_id": "b3fcc4c3ef794cd6a1c3f33c651f0bc6",
       "version_major": 2,
       "version_minor": 0
      },
      "text/plain": [
       "merges.txt: 0.00B [00:00, ?B/s]"
      ]
     },
     "metadata": {},
     "output_type": "display_data"
    },
    {
     "data": {
      "application/vnd.jupyter.widget-view+json": {
       "model_id": "8b6fd66a55ca484d96f0989c5844b315",
       "version_major": 2,
       "version_minor": 0
      },
      "text/plain": [
       "tokenizer.json: 0.00B [00:00, ?B/s]"
      ]
     },
     "metadata": {},
     "output_type": "display_data"
    },
    {
     "name": "stderr",
     "output_type": "stream",
     "text": [
      "Device set to use cpu\n"
     ]
    },
    {
     "name": "stdout",
     "output_type": "stream",
     "text": [
      "📌 Negative Review Topics Distribution:\n",
      "Topic\n",
      "Other             130\n",
      "Performance       104\n",
      "Battery Life       29\n",
      "Screen Issues      18\n",
      "Camera Quality     14\n",
      "Overheating         2\n",
      "Software Bugs       2\n",
      "Name: count, dtype: int64\n",
      "\n",
      "✅ Results saved to: D:\\sentiment_analysis\\Kamal\\output\\negative_reviews_with_topics.csv\n"
     ]
    }
   ],
   "source": [
    "if df_negative.empty:\n",
    "    print(\"No negative reviews found in dataset!\")\n",
    "else:\n",
    "    # 3. Define possible complaint categories\n",
    "    candidate_labels = [\"Battery Life\", \"Camera Quality\", \"Software Bugs\",\n",
    "                        \"Overheating\", \"Screen Issues\", \"Performance\", \"Other\"]\n",
    "\n",
    "    # 4. Load zero-shot classification model\n",
    "    classifier = pipeline(\"zero-shot-classification\", model=\"facebook/bart-large-mnli\")\n",
    "\n",
    "    # 5. Function to classify each review\n",
    "    def classify_review(review):\n",
    "        result = classifier(review, candidate_labels)\n",
    "        return result[\"labels\"][0]   # take the top predicted category\n",
    "\n",
    "    # 6. Apply classification to negative reviews\n",
    "    df_negative[\"Topic\"] = df_negative[\"Reviews\"].apply(classify_review)\n",
    "\n",
    "    # 7. Count reviews per topic\n",
    "    topic_counts = df_negative[\"Topic\"].value_counts()\n",
    "\n",
    "    # 8. Save results\n",
    "    output_path = r\"D:\\sentiment_analysis\\Kamal\\output\\negative_reviews_with_topics.csv\"\n",
    "    df_negative.to_csv(output_path, index=False)\n",
    "\n",
    "    print(\"Negative Review Topics Distribution:\")\n",
    "    print(topic_counts)\n",
    "    print(f\"\\nResults saved to: {output_path}\")"
   ]
  }
 ],
 "metadata": {
  "kernelspec": {
   "display_name": "base",
   "language": "python",
   "name": "python3"
  },
  "language_info": {
   "codemirror_mode": {
    "name": "ipython",
    "version": 3
   },
   "file_extension": ".py",
   "mimetype": "text/x-python",
   "name": "python",
   "nbconvert_exporter": "python",
   "pygments_lexer": "ipython3",
   "version": "3.13.5"
  }
 },
 "nbformat": 4,
 "nbformat_minor": 5
}
