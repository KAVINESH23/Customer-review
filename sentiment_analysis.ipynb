{
 "cells": [
  {
   "cell_type": "code",
   "execution_count": 5,
   "id": "80ba4bc6-f0d4-4bcc-8014-f4d16c553d3c",
   "metadata": {},
   "outputs": [
    {
     "name": "stdout",
     "output_type": "stream",
     "text": [
      "Requirement already satisfied: transformers in c:\\users\\mnand\\anaconda3\\lib\\site-packages (4.55.4)\n",
      "Requirement already satisfied: filelock in c:\\users\\mnand\\anaconda3\\lib\\site-packages (from transformers) (3.17.0)\n",
      "Requirement already satisfied: huggingface-hub<1.0,>=0.34.0 in c:\\users\\mnand\\anaconda3\\lib\\site-packages (from transformers) (0.34.4)\n",
      "Requirement already satisfied: numpy>=1.17 in c:\\users\\mnand\\anaconda3\\lib\\site-packages (from transformers) (2.1.3)\n",
      "Requirement already satisfied: packaging>=20.0 in c:\\users\\mnand\\anaconda3\\lib\\site-packages (from transformers) (24.2)\n",
      "Requirement already satisfied: pyyaml>=5.1 in c:\\users\\mnand\\anaconda3\\lib\\site-packages (from transformers) (6.0.2)\n",
      "Requirement already satisfied: regex!=2019.12.17 in c:\\users\\mnand\\anaconda3\\lib\\site-packages (from transformers) (2024.11.6)\n",
      "Requirement already satisfied: requests in c:\\users\\mnand\\anaconda3\\lib\\site-packages (from transformers) (2.32.3)\n",
      "Requirement already satisfied: tokenizers<0.22,>=0.21 in c:\\users\\mnand\\anaconda3\\lib\\site-packages (from transformers) (0.21.4)\n",
      "Requirement already satisfied: safetensors>=0.4.3 in c:\\users\\mnand\\anaconda3\\lib\\site-packages (from transformers) (0.6.2)\n",
      "Requirement already satisfied: tqdm>=4.27 in c:\\users\\mnand\\anaconda3\\lib\\site-packages (from transformers) (4.67.1)\n",
      "Requirement already satisfied: fsspec>=2023.5.0 in c:\\users\\mnand\\anaconda3\\lib\\site-packages (from huggingface-hub<1.0,>=0.34.0->transformers) (2025.3.2)\n",
      "Requirement already satisfied: typing-extensions>=3.7.4.3 in c:\\users\\mnand\\anaconda3\\lib\\site-packages (from huggingface-hub<1.0,>=0.34.0->transformers) (4.12.2)\n",
      "Requirement already satisfied: colorama in c:\\users\\mnand\\anaconda3\\lib\\site-packages (from tqdm>=4.27->transformers) (0.4.6)\n",
      "Requirement already satisfied: charset-normalizer<4,>=2 in c:\\users\\mnand\\anaconda3\\lib\\site-packages (from requests->transformers) (3.3.2)\n",
      "Requirement already satisfied: idna<4,>=2.5 in c:\\users\\mnand\\anaconda3\\lib\\site-packages (from requests->transformers) (3.7)\n",
      "Requirement already satisfied: urllib3<3,>=1.21.1 in c:\\users\\mnand\\anaconda3\\lib\\site-packages (from requests->transformers) (2.3.0)\n",
      "Requirement already satisfied: certifi>=2017.4.17 in c:\\users\\mnand\\anaconda3\\lib\\site-packages (from requests->transformers) (2025.4.26)\n",
      "Note: you may need to restart the kernel to use updated packages.\n"
     ]
    }
   ],
   "source": [
    "pip install transformers"
   ]
  },
  {
   "cell_type": "code",
   "execution_count": 6,
   "id": "a34ec533-03da-4269-ac76-8a9c1ac96b1e",
   "metadata": {},
   "outputs": [
    {
     "name": "stdout",
     "output_type": "stream",
     "text": [
      "Requirement already satisfied: torch in c:\\users\\mnand\\anaconda3\\lib\\site-packages (2.8.0)Note: you may need to restart the kernel to use updated packages.\n",
      "\n",
      "Requirement already satisfied: torchvision in c:\\users\\mnand\\anaconda3\\lib\\site-packages (0.23.0)\n",
      "Requirement already satisfied: torchaudio in c:\\users\\mnand\\anaconda3\\lib\\site-packages (2.8.0)\n",
      "Requirement already satisfied: filelock in c:\\users\\mnand\\anaconda3\\lib\\site-packages (from torch) (3.17.0)\n",
      "Requirement already satisfied: typing-extensions>=4.10.0 in c:\\users\\mnand\\anaconda3\\lib\\site-packages (from torch) (4.12.2)\n",
      "Requirement already satisfied: sympy>=1.13.3 in c:\\users\\mnand\\anaconda3\\lib\\site-packages (from torch) (1.13.3)\n",
      "Requirement already satisfied: networkx in c:\\users\\mnand\\anaconda3\\lib\\site-packages (from torch) (3.4.2)\n",
      "Requirement already satisfied: jinja2 in c:\\users\\mnand\\anaconda3\\lib\\site-packages (from torch) (3.1.6)\n",
      "Requirement already satisfied: fsspec in c:\\users\\mnand\\anaconda3\\lib\\site-packages (from torch) (2025.3.2)\n",
      "Requirement already satisfied: setuptools in c:\\users\\mnand\\anaconda3\\lib\\site-packages (from torch) (72.1.0)\n",
      "Requirement already satisfied: numpy in c:\\users\\mnand\\anaconda3\\lib\\site-packages (from torchvision) (2.1.3)\n",
      "Requirement already satisfied: pillow!=8.3.*,>=5.3.0 in c:\\users\\mnand\\anaconda3\\lib\\site-packages (from torchvision) (11.1.0)\n",
      "Requirement already satisfied: mpmath<1.4,>=1.1.0 in c:\\users\\mnand\\anaconda3\\lib\\site-packages (from sympy>=1.13.3->torch) (1.3.0)\n",
      "Requirement already satisfied: MarkupSafe>=2.0 in c:\\users\\mnand\\anaconda3\\lib\\site-packages (from jinja2->torch) (3.0.2)\n"
     ]
    }
   ],
   "source": [
    "pip install torch torchvision torchaudio"
   ]
  },
  {
   "cell_type": "code",
   "execution_count": 7,
   "id": "efaf3646-cf8d-474e-b3e7-af41c3f10797",
   "metadata": {},
   "outputs": [
    {
     "name": "stdout",
     "output_type": "stream",
     "text": [
      "Requirement already satisfied: tf-keras in c:\\users\\mnand\\anaconda3\\lib\\site-packages (2.15.0)\n",
      "Note: you may need to restart the kernel to use updated packages.\n"
     ]
    }
   ],
   "source": [
    "pip install tf-keras"
   ]
  },
  {
   "cell_type": "code",
   "execution_count": 8,
   "id": "a3740ccf",
   "metadata": {},
   "outputs": [
    {
     "name": "stdout",
     "output_type": "stream",
     "text": [
      "Requirement already satisfied: pandas in c:\\users\\mnand\\anaconda3\\lib\\site-packages (2.2.3)\n",
      "Requirement already satisfied: numpy>=1.26.0 in c:\\users\\mnand\\anaconda3\\lib\\site-packages (from pandas) (2.1.3)\n",
      "Requirement already satisfied: python-dateutil>=2.8.2 in c:\\users\\mnand\\anaconda3\\lib\\site-packages (from pandas) (2.9.0.post0)\n",
      "Requirement already satisfied: pytz>=2020.1 in c:\\users\\mnand\\anaconda3\\lib\\site-packages (from pandas) (2024.1)\n",
      "Requirement already satisfied: tzdata>=2022.7 in c:\\users\\mnand\\anaconda3\\lib\\site-packages (from pandas) (2025.2)\n",
      "Requirement already satisfied: six>=1.5 in c:\\users\\mnand\\anaconda3\\lib\\site-packages (from python-dateutil>=2.8.2->pandas) (1.17.0)\n",
      "Note: you may need to restart the kernel to use updated packages.\n"
     ]
    }
   ],
   "source": [
    "pip install pandas"
   ]
  },
  {
   "cell_type": "code",
   "execution_count": 9,
   "id": "4e5a6915-36ce-4f6a-841d-c8d4d41eb78f",
   "metadata": {},
   "outputs": [],
   "source": [
    "import pandas as pd\n",
    "import os\n",
    "import torch\n",
    "from transformers import pipeline"
   ]
  },
  {
   "cell_type": "code",
   "execution_count": 10,
   "id": "c0566e0e-9732-4b57-9469-f2a9478a3102",
   "metadata": {},
   "outputs": [
    {
     "name": "stdout",
     "output_type": "stream",
     "text": [
      "Loaded 1109 reviews from Task 1 output.\n"
     ]
    }
   ],
   "source": [
    "#Load data\n",
    "file_path = r'D:\\sentiment_analysis\\output\\specific_product.csv'\n",
    "\n",
    "if not os.path.exists(file_path):\n",
    "    raise FileNotFoundError(f\"Could not find {file_path}. Run task1_data_prep.py first.\")\n",
    "\n",
    "df_product = pd.read_csv(file_path)\n",
    "print(f\"Loaded {len(df_product)} reviews from Task 1 output.\")"
   ]
  },
  {
   "cell_type": "code",
   "execution_count": 11,
   "id": "2171df16",
   "metadata": {},
   "outputs": [
    {
     "name": "stderr",
     "output_type": "stream",
     "text": [
      "Device set to use cpu\n"
     ]
    }
   ],
   "source": [
    "sentiment_model = pipeline(\"sentiment-analysis\", model=\"distilbert-base-uncased-finetuned-sst-2-english\")\n"
   ]
  },
  {
   "cell_type": "code",
   "execution_count": 12,
   "id": "a1e11e38",
   "metadata": {},
   "outputs": [],
   "source": [
    "def get_sentiment(text):\n",
    "    # Handle missing or non-string values\n",
    "    if pd.isna(text):\n",
    "        return \"Neutral\"\n",
    "    \n",
    "    text = str(text)  # ensure it's a string\n",
    "    if text.strip() == \"\":\n",
    "        return \"Neutral\"\n",
    "    \n",
    "    # Hugging Face model inference (truncate to 512 chars)\n",
    "    result = sentiment_model(text[:512])[0]\n",
    "    label = result[\"label\"]\n",
    "    score = result[\"score\"]\n",
    "\n",
    "    if label == \"POSITIVE\" and score >= 0.6:\n",
    "        return \"Positive\"\n",
    "    elif label == \"NEGATIVE\" and score >= 0.6:\n",
    "        return \"Negative\"\n",
    "    else:\n",
    "        return \"Neutral\""
   ]
  },
  {
   "cell_type": "code",
   "execution_count": 13,
   "id": "d2abdb4d",
   "metadata": {},
   "outputs": [],
   "source": [
    "df_product[\"Sentiment\"] = df_product[\"Reviews\"].apply(get_sentiment)"
   ]
  },
  {
   "cell_type": "code",
   "execution_count": 14,
   "id": "037da6d7",
   "metadata": {},
   "outputs": [
    {
     "name": "stdout",
     "output_type": "stream",
     "text": [
      "                                             Reviews Sentiment\n",
      "0  very nice phone only problem i find is it tend...  Positive\n",
      "1                                          i like it  Positive\n",
      "2                                         great item  Positive\n",
      "3                  excellent team is what i expected  Positive\n",
      "4                                               cool  Positive\n"
     ]
    }
   ],
   "source": [
    "print(df_product[[\"Reviews\", \"Sentiment\"]].head())"
   ]
  },
  {
   "cell_type": "code",
   "execution_count": 15,
   "id": "dbdcbda7",
   "metadata": {},
   "outputs": [
    {
     "name": "stdout",
     "output_type": "stream",
     "text": [
      "\n",
      "Sentiment distribution:\n",
      " Sentiment\n",
      "Positive    802\n",
      "Negative    299\n",
      "Neutral       8\n",
      "Name: count, dtype: int64\n"
     ]
    }
   ],
   "source": [
    "print(\"\\nSentiment distribution:\\n\", df_product[\"Sentiment\"].value_counts())"
   ]
  },
  {
   "cell_type": "code",
   "execution_count": 16,
   "id": "a8e46afd",
   "metadata": {},
   "outputs": [
    {
     "data": {
      "text/html": [
       "<div>\n",
       "<style scoped>\n",
       "    .dataframe tbody tr th:only-of-type {\n",
       "        vertical-align: middle;\n",
       "    }\n",
       "\n",
       "    .dataframe tbody tr th {\n",
       "        vertical-align: top;\n",
       "    }\n",
       "\n",
       "    .dataframe thead th {\n",
       "        text-align: right;\n",
       "    }\n",
       "</style>\n",
       "<table border=\"1\" class=\"dataframe\">\n",
       "  <thead>\n",
       "    <tr style=\"text-align: right;\">\n",
       "      <th></th>\n",
       "      <th>Product Name</th>\n",
       "      <th>Brand Name</th>\n",
       "      <th>Rating</th>\n",
       "      <th>Reviews</th>\n",
       "      <th>Sentiment</th>\n",
       "    </tr>\n",
       "  </thead>\n",
       "  <tbody>\n",
       "    <tr>\n",
       "      <th>0</th>\n",
       "      <td>samsung galaxy s duos ii s7582 dual sim factor...</td>\n",
       "      <td>Samsung</td>\n",
       "      <td>4</td>\n",
       "      <td>very nice phone only problem i find is it tend...</td>\n",
       "      <td>Positive</td>\n",
       "    </tr>\n",
       "    <tr>\n",
       "      <th>1</th>\n",
       "      <td>samsung galaxy s duos ii s7582 dual sim factor...</td>\n",
       "      <td>Samsung</td>\n",
       "      <td>5</td>\n",
       "      <td>i like it</td>\n",
       "      <td>Positive</td>\n",
       "    </tr>\n",
       "    <tr>\n",
       "      <th>2</th>\n",
       "      <td>samsung galaxy s duos ii s7582 dual sim factor...</td>\n",
       "      <td>Samsung</td>\n",
       "      <td>5</td>\n",
       "      <td>great item</td>\n",
       "      <td>Positive</td>\n",
       "    </tr>\n",
       "    <tr>\n",
       "      <th>3</th>\n",
       "      <td>samsung galaxy s duos ii s7582 dual sim factor...</td>\n",
       "      <td>Samsung</td>\n",
       "      <td>5</td>\n",
       "      <td>excellent team is what i expected</td>\n",
       "      <td>Positive</td>\n",
       "    </tr>\n",
       "    <tr>\n",
       "      <th>4</th>\n",
       "      <td>samsung galaxy s duos ii s7582 dual sim factor...</td>\n",
       "      <td>Samsung</td>\n",
       "      <td>5</td>\n",
       "      <td>cool</td>\n",
       "      <td>Positive</td>\n",
       "    </tr>\n",
       "  </tbody>\n",
       "</table>\n",
       "</div>"
      ],
      "text/plain": [
       "                                        Product Name Brand Name  Rating  \\\n",
       "0  samsung galaxy s duos ii s7582 dual sim factor...    Samsung       4   \n",
       "1  samsung galaxy s duos ii s7582 dual sim factor...    Samsung       5   \n",
       "2  samsung galaxy s duos ii s7582 dual sim factor...    Samsung       5   \n",
       "3  samsung galaxy s duos ii s7582 dual sim factor...    Samsung       5   \n",
       "4  samsung galaxy s duos ii s7582 dual sim factor...    Samsung       5   \n",
       "\n",
       "                                             Reviews Sentiment  \n",
       "0  very nice phone only problem i find is it tend...  Positive  \n",
       "1                                          i like it  Positive  \n",
       "2                                         great item  Positive  \n",
       "3                  excellent team is what i expected  Positive  \n",
       "4                                               cool  Positive  "
      ]
     },
     "execution_count": 16,
     "metadata": {},
     "output_type": "execute_result"
    }
   ],
   "source": [
    "df_product.head()"
   ]
  },
  {
   "cell_type": "code",
   "execution_count": 17,
   "id": "7633a433",
   "metadata": {},
   "outputs": [
    {
     "data": {
      "text/plain": [
       "Brand Name\n",
       "Samsung    1109\n",
       "Name: count, dtype: int64"
      ]
     },
     "execution_count": 17,
     "metadata": {},
     "output_type": "execute_result"
    }
   ],
   "source": [
    "df_product[\"Brand Name\"].value_counts()"
   ]
  },
  {
   "cell_type": "code",
   "execution_count": 18,
   "id": "0319e3dc",
   "metadata": {},
   "outputs": [],
   "source": [
    "# STEP 4: FILTER SPECIFIC PRODUCT \n",
    "\n",
    "product_name = \"samsung galaxy s duos ii s7582 dual sim factory unlocked international version black\"\n",
    "\n",
    "# Filter rows matching this product name exactly\n",
    "df_product = df_product[df_product['Product Name'] == product_name].copy()\n"
   ]
  },
  {
   "cell_type": "code",
   "execution_count": 19,
   "id": "26df4ea5",
   "metadata": {},
   "outputs": [
    {
     "data": {
      "text/plain": [
       "Product Name    1109\n",
       "Brand Name      1109\n",
       "Rating          1109\n",
       "Reviews         1109\n",
       "Sentiment       1109\n",
       "dtype: int64"
      ]
     },
     "execution_count": 19,
     "metadata": {},
     "output_type": "execute_result"
    }
   ],
   "source": [
    "df_product.count()"
   ]
  },
  {
   "cell_type": "code",
   "execution_count": 20,
   "id": "d901f1d1",
   "metadata": {},
   "outputs": [
    {
     "data": {
      "text/html": [
       "<div>\n",
       "<style scoped>\n",
       "    .dataframe tbody tr th:only-of-type {\n",
       "        vertical-align: middle;\n",
       "    }\n",
       "\n",
       "    .dataframe tbody tr th {\n",
       "        vertical-align: top;\n",
       "    }\n",
       "\n",
       "    .dataframe thead th {\n",
       "        text-align: right;\n",
       "    }\n",
       "</style>\n",
       "<table border=\"1\" class=\"dataframe\">\n",
       "  <thead>\n",
       "    <tr style=\"text-align: right;\">\n",
       "      <th></th>\n",
       "      <th>Product Name</th>\n",
       "      <th>Brand Name</th>\n",
       "      <th>Rating</th>\n",
       "      <th>Reviews</th>\n",
       "      <th>Sentiment</th>\n",
       "    </tr>\n",
       "  </thead>\n",
       "  <tbody>\n",
       "    <tr>\n",
       "      <th>0</th>\n",
       "      <td>samsung galaxy s duos ii s7582 dual sim factor...</td>\n",
       "      <td>Samsung</td>\n",
       "      <td>4</td>\n",
       "      <td>very nice phone only problem i find is it tend...</td>\n",
       "      <td>Positive</td>\n",
       "    </tr>\n",
       "    <tr>\n",
       "      <th>1</th>\n",
       "      <td>samsung galaxy s duos ii s7582 dual sim factor...</td>\n",
       "      <td>Samsung</td>\n",
       "      <td>5</td>\n",
       "      <td>i like it</td>\n",
       "      <td>Positive</td>\n",
       "    </tr>\n",
       "    <tr>\n",
       "      <th>2</th>\n",
       "      <td>samsung galaxy s duos ii s7582 dual sim factor...</td>\n",
       "      <td>Samsung</td>\n",
       "      <td>5</td>\n",
       "      <td>great item</td>\n",
       "      <td>Positive</td>\n",
       "    </tr>\n",
       "    <tr>\n",
       "      <th>3</th>\n",
       "      <td>samsung galaxy s duos ii s7582 dual sim factor...</td>\n",
       "      <td>Samsung</td>\n",
       "      <td>5</td>\n",
       "      <td>excellent team is what i expected</td>\n",
       "      <td>Positive</td>\n",
       "    </tr>\n",
       "    <tr>\n",
       "      <th>4</th>\n",
       "      <td>samsung galaxy s duos ii s7582 dual sim factor...</td>\n",
       "      <td>Samsung</td>\n",
       "      <td>5</td>\n",
       "      <td>cool</td>\n",
       "      <td>Positive</td>\n",
       "    </tr>\n",
       "  </tbody>\n",
       "</table>\n",
       "</div>"
      ],
      "text/plain": [
       "                                        Product Name Brand Name  Rating  \\\n",
       "0  samsung galaxy s duos ii s7582 dual sim factor...    Samsung       4   \n",
       "1  samsung galaxy s duos ii s7582 dual sim factor...    Samsung       5   \n",
       "2  samsung galaxy s duos ii s7582 dual sim factor...    Samsung       5   \n",
       "3  samsung galaxy s duos ii s7582 dual sim factor...    Samsung       5   \n",
       "4  samsung galaxy s duos ii s7582 dual sim factor...    Samsung       5   \n",
       "\n",
       "                                             Reviews Sentiment  \n",
       "0  very nice phone only problem i find is it tend...  Positive  \n",
       "1                                          i like it  Positive  \n",
       "2                                         great item  Positive  \n",
       "3                  excellent team is what i expected  Positive  \n",
       "4                                               cool  Positive  "
      ]
     },
     "execution_count": 20,
     "metadata": {},
     "output_type": "execute_result"
    }
   ],
   "source": [
    "df_product.head()"
   ]
  },
  {
   "cell_type": "code",
   "execution_count": 23,
   "id": "6c32af70",
   "metadata": {},
   "outputs": [
    {
     "name": "stdout",
     "output_type": "stream",
     "text": [
      "\n",
      " Specific product data saved to 'D:\\sentiment_analysis\\Kamal\\output\\specific_product.csv'\n"
     ]
    }
   ],
   "source": [
    "\n",
    "# Check if any data is found\n",
    "if not df_product.empty:\n",
    "    specific_product_path = os.path.join('D:\\sentiment_analysis\\Kamal\\output', 'specific_product.csv')\n",
    "    df_product.to_csv(specific_product_path, index=False, encoding='utf-8')\n",
    "    print(f\"\\n Specific product data saved to '{specific_product_path}'\")\n",
    "else:\n",
    "    print(\"\\n No data found for the specific product.\")"
   ]
  },
  {
   "cell_type": "code",
   "execution_count": 24,
   "id": "4f42932e",
   "metadata": {},
   "outputs": [
    {
     "data": {
      "text/plain": [
       "Sentiment\n",
       "Positive    802\n",
       "Negative    299\n",
       "Neutral       8\n",
       "Name: count, dtype: int64"
      ]
     },
     "execution_count": 24,
     "metadata": {},
     "output_type": "execute_result"
    }
   ],
   "source": [
    "df_product[\"Sentiment\"].value_counts()"
   ]
  }
 ],
 "metadata": {
  "kernelspec": {
   "display_name": "base",
   "language": "python",
   "name": "python3"
  },
  "language_info": {
   "codemirror_mode": {
    "name": "ipython",
    "version": 3
   },
   "file_extension": ".py",
   "mimetype": "text/x-python",
   "name": "python",
   "nbconvert_exporter": "python",
   "pygments_lexer": "ipython3",
   "version": "3.13.5"
  }
 },
 "nbformat": 4,
 "nbformat_minor": 5
}
